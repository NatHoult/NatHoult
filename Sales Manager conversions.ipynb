{
 "cells": [
  {
   "cell_type": "markdown",
   "metadata": {},
   "source": [
    "# Sales Manager conversion rates\n",
    "\n",
    "### Opening DB\n"
   ]
  },
  {
   "cell_type": "code",
   "execution_count": 1,
   "metadata": {},
   "outputs": [
    {
     "data": {
      "text/plain": [
       "Index(['index', 'client_account_id', 'date', 'event_name', 'manager_id',\n",
       "       'manager_nickname'],\n",
       "      dtype='object')"
      ]
     },
     "execution_count": 1,
     "metadata": {},
     "output_type": "execute_result"
    }
   ],
   "source": [
    "import pandas as pd\n",
    "\n",
    "#Read the data\n",
    "sales = pd.read_csv(\"best_salesman_homework.csv\", encoding=\"ISO-8859-1\")\n",
    "sales = sales.reset_index()\n",
    "sales.columns"
   ]
  },
  {
   "cell_type": "code",
   "execution_count": 2,
   "metadata": {},
   "outputs": [
    {
     "data": {
      "text/plain": [
       "<bound method DataFrame.info of       index  client_account_id        date   event_name  manager_id  \\\n",
       "0         0                  0  2022-05-09  first_touch         1.0   \n",
       "1         1                  1  2022-03-21  first_touch         3.0   \n",
       "2         2                  2  2022-04-18  first_touch         2.0   \n",
       "3         3                  3  2022-02-07  first_touch         2.0   \n",
       "4         4                  4  2022-04-08  first_touch         1.0   \n",
       "...     ...                ...         ...          ...         ...   \n",
       "3178   3178               2982  2021-05-17  first_touch         3.0   \n",
       "3179   3179               2983  2022-03-24  first_touch         3.0   \n",
       "3180   3180               2984  2022-05-09  first_touch         1.0   \n",
       "3181   3181               2985  2022-03-22  first_touch         2.0   \n",
       "3182   3182               2986  2021-11-21  first_touch         3.0   \n",
       "\n",
       "     manager_nickname  \n",
       "0       Justin Beiber  \n",
       "1           Joe Biden  \n",
       "2        Kylie Jenner  \n",
       "3        Kylie Jenner  \n",
       "4       Justin Beiber  \n",
       "...               ...  \n",
       "3178        Joe Biden  \n",
       "3179        Joe Biden  \n",
       "3180    Justin Beiber  \n",
       "3181     Kylie Jenner  \n",
       "3182        Joe Biden  \n",
       "\n",
       "[3183 rows x 6 columns]>"
      ]
     },
     "execution_count": 2,
     "metadata": {},
     "output_type": "execute_result"
    }
   ],
   "source": [
    "sales.info"
   ]
  },
  {
   "cell_type": "code",
   "execution_count": 3,
   "metadata": {},
   "outputs": [
    {
     "data": {
      "text/plain": [
       "1175    2\n",
       "1329    2\n",
       "2751    2\n",
       "2393    2\n",
       "2390    2\n",
       "       ..\n",
       "1027    1\n",
       "1028    1\n",
       "1029    1\n",
       "1030    1\n",
       "2986    1\n",
       "Name: client_account_id, Length: 2987, dtype: int64"
      ]
     },
     "execution_count": 3,
     "metadata": {},
     "output_type": "execute_result"
    }
   ],
   "source": [
    "sales['client_account_id'].value_counts()"
   ]
  },
  {
   "cell_type": "code",
   "execution_count": 4,
   "metadata": {},
   "outputs": [
    {
     "data": {
      "text/plain": [
       "array(['first_touch', 'deal'], dtype=object)"
      ]
     },
     "execution_count": 4,
     "metadata": {},
     "output_type": "execute_result"
    }
   ],
   "source": [
    "sales['event_name'].unique()"
   ]
  },
  {
   "cell_type": "markdown",
   "metadata": {},
   "source": [
    "### Exploring the fields\n",
    "\n",
    "What we can see in this dataset (I opened it also in Excel) is that there are many calls that all sales managers do, and some of them lead to actual sales, but those sales could be made by another sales manager. Also the pipeline has only two steps - first call and an actual sale. \n",
    "\n",
    "The main issue is that there are two different sales managers working with the same customer. So we can compute two different parameters.\n",
    "\n",
    "1. Group performance. Sales overall. Just compute Group conversion - how many sales and calls each manager does regardless the customer.\n",
    "2. Individual performance. Compute calls that lead to sales and divide them to all calls made by each manager. Probably more important to count golden calls that causes sales.\n",
    "\n",
    "### Group performance"
   ]
  },
  {
   "cell_type": "markdown",
   "metadata": {},
   "source": [
    "First of all we will count amount of all calls and deals per sales manager"
   ]
  },
  {
   "cell_type": "code",
   "execution_count": 98,
   "metadata": {},
   "outputs": [
    {
     "data": {
      "text/plain": [
       "manager_nickname  event_name \n",
       "Joe Biden         deal             91\n",
       "                  first_touch    1158\n",
       "Justin Beiber     deal             37\n",
       "                  first_touch     890\n",
       "Kylie Jenner      deal             68\n",
       "                  first_touch     939\n",
       "Name: client_account_id, dtype: int64"
      ]
     },
     "metadata": {},
     "output_type": "display_data"
    }
   ],
   "source": [
    "s = sales.groupby(['manager_nickname','event_name'])['client_account_id'].count()\n",
    "display(s)"
   ]
  },
  {
   "cell_type": "code",
   "execution_count": 78,
   "metadata": {
    "scrolled": true
   },
   "outputs": [
    {
     "data": {
      "text/html": [
       "<div>\n",
       "<style scoped>\n",
       "    .dataframe tbody tr th:only-of-type {\n",
       "        vertical-align: middle;\n",
       "    }\n",
       "\n",
       "    .dataframe tbody tr th {\n",
       "        vertical-align: top;\n",
       "    }\n",
       "\n",
       "    .dataframe thead th {\n",
       "        text-align: right;\n",
       "    }\n",
       "</style>\n",
       "<table border=\"1\" class=\"dataframe\">\n",
       "  <thead>\n",
       "    <tr style=\"text-align: right;\">\n",
       "      <th></th>\n",
       "      <th>index</th>\n",
       "      <th>client_account_id</th>\n",
       "      <th>date</th>\n",
       "      <th>event_name</th>\n",
       "      <th>manager_id</th>\n",
       "      <th>manager_nickname</th>\n",
       "    </tr>\n",
       "    <tr>\n",
       "      <th>manager_nickname</th>\n",
       "      <th></th>\n",
       "      <th></th>\n",
       "      <th></th>\n",
       "      <th></th>\n",
       "      <th></th>\n",
       "      <th></th>\n",
       "    </tr>\n",
       "  </thead>\n",
       "  <tbody>\n",
       "    <tr>\n",
       "      <th>Joe Biden</th>\n",
       "      <td>0.078584</td>\n",
       "      <td>0.078584</td>\n",
       "      <td>0.078584</td>\n",
       "      <td>0.078584</td>\n",
       "      <td>0.078584</td>\n",
       "      <td>0.078584</td>\n",
       "    </tr>\n",
       "    <tr>\n",
       "      <th>Justin Beiber</th>\n",
       "      <td>0.041573</td>\n",
       "      <td>0.041573</td>\n",
       "      <td>0.041573</td>\n",
       "      <td>0.041573</td>\n",
       "      <td>0.041573</td>\n",
       "      <td>0.041573</td>\n",
       "    </tr>\n",
       "    <tr>\n",
       "      <th>Kylie Jenner</th>\n",
       "      <td>0.072417</td>\n",
       "      <td>0.072417</td>\n",
       "      <td>0.072417</td>\n",
       "      <td>0.072417</td>\n",
       "      <td>0.072417</td>\n",
       "      <td>0.072417</td>\n",
       "    </tr>\n",
       "  </tbody>\n",
       "</table>\n",
       "</div>"
      ],
      "text/plain": [
       "                     index  client_account_id      date  event_name  \\\n",
       "manager_nickname                                                      \n",
       "Joe Biden         0.078584           0.078584  0.078584    0.078584   \n",
       "Justin Beiber     0.041573           0.041573  0.041573    0.041573   \n",
       "Kylie Jenner      0.072417           0.072417  0.072417    0.072417   \n",
       "\n",
       "                  manager_id  manager_nickname  \n",
       "manager_nickname                                \n",
       "Joe Biden           0.078584          0.078584  \n",
       "Justin Beiber       0.041573          0.041573  \n",
       "Kylie Jenner        0.072417          0.072417  "
      ]
     },
     "metadata": {},
     "output_type": "display_data"
    }
   ],
   "source": [
    "def rate(df):\n",
    "    return df[df.event_name == 'deal'].count() / df[df.event_name == 'first_touch'].count()\n",
    "\n",
    "sales_calls = sales.groupby(['manager_nickname']).apply(rate)\n",
    "display(sales_calls)"
   ]
  },
  {
   "cell_type": "markdown",
   "metadata": {},
   "source": [
    "As we can see, Joe Biden's conversion rate is little bit higher then others, but let's perform another calculation to have a bigger view."
   ]
  },
  {
   "cell_type": "markdown",
   "metadata": {},
   "source": [
    "### Individual performance\n",
    "\n",
    "Here we should find all calls lead to deals first."
   ]
  },
  {
   "cell_type": "code",
   "execution_count": 79,
   "metadata": {
    "scrolled": true
   },
   "outputs": [
    {
     "name": "stdout",
     "output_type": "stream",
     "text": [
      "{'Justin Beiber': 53, 'Joe Biden': 78, 'Kylie Jenner': 65}\n"
     ]
    }
   ],
   "source": [
    "res = {}\n",
    "for index, row in sales.iterrows():\n",
    "    if row['event_name'] == 'deal':\n",
    "        if sales.iloc[[index - 1]]['manager_nickname'][index - 1] not in res:\n",
    "            res[sales.iloc[[index - 1]]['manager_nickname'][index - 1]] = 1\n",
    "        else:\n",
    "            res[sales.iloc[[index - 1]]['manager_nickname'][index - 1]] += 1\n",
    "print(res)"
   ]
  },
  {
   "cell_type": "markdown",
   "metadata": {},
   "source": [
    "Now we will find a conversion rate for each sales manager"
   ]
  },
  {
   "cell_type": "code",
   "execution_count": 89,
   "metadata": {},
   "outputs": [
    {
     "data": {
      "text/html": [
       "<div>\n",
       "<style scoped>\n",
       "    .dataframe tbody tr th:only-of-type {\n",
       "        vertical-align: middle;\n",
       "    }\n",
       "\n",
       "    .dataframe tbody tr th {\n",
       "        vertical-align: top;\n",
       "    }\n",
       "\n",
       "    .dataframe thead th {\n",
       "        text-align: right;\n",
       "    }\n",
       "</style>\n",
       "<table border=\"1\" class=\"dataframe\">\n",
       "  <thead>\n",
       "    <tr style=\"text-align: right;\">\n",
       "      <th></th>\n",
       "      <th>index</th>\n",
       "      <th>client_account_id</th>\n",
       "      <th>date</th>\n",
       "      <th>event_name</th>\n",
       "      <th>manager_id</th>\n",
       "      <th>manager_nickname</th>\n",
       "    </tr>\n",
       "    <tr>\n",
       "      <th>manager_nickname</th>\n",
       "      <th></th>\n",
       "      <th></th>\n",
       "      <th></th>\n",
       "      <th></th>\n",
       "      <th></th>\n",
       "      <th></th>\n",
       "    </tr>\n",
       "  </thead>\n",
       "  <tbody>\n",
       "    <tr>\n",
       "      <th>Joe Biden</th>\n",
       "      <td>0.067358</td>\n",
       "      <td>0.067358</td>\n",
       "      <td>0.067358</td>\n",
       "      <td>0.067358</td>\n",
       "      <td>0.067358</td>\n",
       "      <td>0.067358</td>\n",
       "    </tr>\n",
       "    <tr>\n",
       "      <th>Justin Beiber</th>\n",
       "      <td>0.059551</td>\n",
       "      <td>0.059551</td>\n",
       "      <td>0.059551</td>\n",
       "      <td>0.059551</td>\n",
       "      <td>0.059551</td>\n",
       "      <td>0.059551</td>\n",
       "    </tr>\n",
       "    <tr>\n",
       "      <th>Kylie Jenner</th>\n",
       "      <td>0.069223</td>\n",
       "      <td>0.069223</td>\n",
       "      <td>0.069223</td>\n",
       "      <td>0.069223</td>\n",
       "      <td>0.069223</td>\n",
       "      <td>0.069223</td>\n",
       "    </tr>\n",
       "  </tbody>\n",
       "</table>\n",
       "</div>"
      ],
      "text/plain": [
       "                     index  client_account_id      date  event_name  \\\n",
       "manager_nickname                                                      \n",
       "Joe Biden         0.067358           0.067358  0.067358    0.067358   \n",
       "Justin Beiber     0.059551           0.059551  0.059551    0.059551   \n",
       "Kylie Jenner      0.069223           0.069223  0.069223    0.069223   \n",
       "\n",
       "                  manager_id  manager_nickname  \n",
       "manager_nickname                                \n",
       "Joe Biden           0.067358          0.067358  \n",
       "Justin Beiber       0.059551          0.059551  \n",
       "Kylie Jenner        0.069223          0.069223  "
      ]
     },
     "metadata": {},
     "output_type": "display_data"
    }
   ],
   "source": [
    "def coeff(df):\n",
    "    return res[df.manager_nickname.values[0]] / df[df.event_name == 'first_touch'].count()\n",
    "\n",
    "sales_coeffs = sales.groupby(['manager_nickname']).apply(coeff)\n",
    "display(sales_coeffs)\n"
   ]
  },
  {
   "cell_type": "markdown",
   "metadata": {},
   "source": [
    "Now we can see that Kylie's rate is little bit higher then Joe's even though she officially made less calls and sales. Biden will be dissapointed. We will not tell him."
   ]
  },
  {
   "cell_type": "code",
   "execution_count": null,
   "metadata": {},
   "outputs": [],
   "source": []
  }
 ],
 "metadata": {
  "kernelspec": {
   "display_name": "Python 3 (ipykernel)",
   "language": "python",
   "name": "python3"
  },
  "language_info": {
   "codemirror_mode": {
    "name": "ipython",
    "version": 3
   },
   "file_extension": ".py",
   "mimetype": "text/x-python",
   "name": "python",
   "nbconvert_exporter": "python",
   "pygments_lexer": "ipython3",
   "version": "3.9.7"
  }
 },
 "nbformat": 4,
 "nbformat_minor": 2
}
