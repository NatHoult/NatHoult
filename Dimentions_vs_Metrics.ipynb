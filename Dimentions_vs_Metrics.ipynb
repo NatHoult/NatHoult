{
 "cells": [
  {
   "cell_type": "markdown",
   "metadata": {},
   "source": [
    "# Dimensions vs Metrics\n",
    "\n",
    "### Opening DB\n"
   ]
  },
  {
   "cell_type": "code",
   "execution_count": 1,
   "metadata": {},
   "outputs": [
    {
     "data": {
      "text/plain": [
       "Index(['data_source_title', 'report_type_title', 'field_title',\n",
       "       'sql_field_name', 'api_field_name'],\n",
       "      dtype='object')"
      ]
     },
     "execution_count": 1,
     "metadata": {},
     "output_type": "execute_result"
    }
   ],
   "source": [
    "import pandas as pd\n",
    "\n",
    "#Read the data\n",
    "dim_metr = pd.read_csv(\"Data_Dictionary_for_CSV_2022_10_03.csv\", encoding=\"ISO-8859-1\")\n",
    "dim_metr.reset_index()\n",
    "dim_metr.columns"
   ]
  },
  {
   "cell_type": "code",
   "execution_count": 2,
   "metadata": {},
   "outputs": [
    {
     "data": {
      "text/plain": [
       "<bound method DataFrame.info of       data_source_title report_type_title            field_title  \\\n",
       "0                  ACME      Transactions    Transaction Item Id   \n",
       "1                  ACME      Transactions         Transaction Id   \n",
       "2                  ACME      Transactions               Order Id   \n",
       "3                  ACME      Transactions          Membership Id   \n",
       "4                  ACME      Transactions               Event Id   \n",
       "...                 ...               ...                    ...   \n",
       "30713       Zignal Labs  Newsroom Stories                  Title   \n",
       "30714       Zignal Labs  Newsroom Stories                 Source   \n",
       "30715       Zignal Labs  Newsroom Stories                    Url   \n",
       "30716       Zignal Labs  Newsroom Stories              Sentiment   \n",
       "30717       Zignal Labs  Newsroom Stories  Potential Impressions   \n",
       "\n",
       "              sql_field_name         api_field_name  \n",
       "0        transaction_item_id      TransactionItemId  \n",
       "1             transaction_id          TransactionId  \n",
       "2                   order_id                OrderId  \n",
       "3              membership_id           MembershipId  \n",
       "4                   event_id                EventId  \n",
       "...                      ...                    ...  \n",
       "30713                  title                  title  \n",
       "30714                 source                 source  \n",
       "30715                    url                    url  \n",
       "30716              sentiment              sentiment  \n",
       "30717  potential_impressions  potential_impressions  \n",
       "\n",
       "[30718 rows x 5 columns]>"
      ]
     },
     "execution_count": 2,
     "metadata": {},
     "output_type": "execute_result"
    }
   ],
   "source": [
    "dim_metr.info"
   ]
  },
  {
   "cell_type": "markdown",
   "metadata": {},
   "source": [
    "### Exploring the fields\n",
    "\n",
    "Dimensions are attributes of your data. For example, the dimension `City` indicates the city, for example, `Paris` or `New York`, from which a session originates. The dimension `Page` indicates the URL of a page that is viewed.\n",
    "\n",
    "Metrics are quantitative measurements. \n",
    "\n",
    "Let's add a new column `Field_type` which is by default `Dimension`.\n",
    "\n",
    "The column `api_field_name` looks like includes some computed fields marked with dot. That could me metrics there! But some fields are just dimensions because they have id's, name's etc.\n",
    "\n",
    "We will organize some lists to mark rows as `Metric` or `Dimension`\n"
   ]
  },
  {
   "cell_type": "code",
   "execution_count": 3,
   "metadata": {
    "scrolled": true
   },
   "outputs": [],
   "source": [
    "dim_metr['field_type'] = \"Dimension\""
   ]
  },
  {
   "cell_type": "code",
   "execution_count": 47,
   "metadata": {},
   "outputs": [
    {
     "name": "stdout",
     "output_type": "stream",
     "text": [
      "      data_source_title report_type_title            field_title  \\\n",
      "0                  ACME      Transactions    Transaction Item Id   \n",
      "1                  ACME      Transactions         Transaction Id   \n",
      "2                  ACME      Transactions               Order Id   \n",
      "3                  ACME      Transactions          Membership Id   \n",
      "4                  ACME      Transactions               Event Id   \n",
      "...                 ...               ...                    ...   \n",
      "30713       Zignal Labs  Newsroom Stories                  Title   \n",
      "30714       Zignal Labs  Newsroom Stories                 Source   \n",
      "30715       Zignal Labs  Newsroom Stories                    Url   \n",
      "30716       Zignal Labs  Newsroom Stories              Sentiment   \n",
      "30717       Zignal Labs  Newsroom Stories  Potential Impressions   \n",
      "\n",
      "              sql_field_name         api_field_name field_type  \n",
      "0        transaction_item_id      TransactionItemId  Dimension  \n",
      "1             transaction_id          TransactionId  Dimension  \n",
      "2                   order_id                OrderId  Dimension  \n",
      "3              membership_id           MembershipId  Dimension  \n",
      "4                   event_id                EventId  Dimension  \n",
      "...                      ...                    ...        ...  \n",
      "30713                  title                  title  Dimension  \n",
      "30714                 source                 source  Dimension  \n",
      "30715                    url                    url  Dimension  \n",
      "30716              sentiment              sentiment  Dimension  \n",
      "30717  potential_impressions  potential_impressions     Metric  \n",
      "\n",
      "[30718 rows x 6 columns]\n"
     ]
    }
   ],
   "source": [
    "Exclude_api = ['id', 'url', 'end', 'start', 'begin', 'name', 'Name','date', 'sent', 'type', 'dest', 'subject', 'mail', 'screenshot', 'out', '0', '1', 'Hight', 'Weight']\n",
    "Suffixes = ['ons', 'es', 'ks', 'ts', 'ds', 'ns', 'rs']\n",
    "Include_api = ['.', 'average', 'views', 'impressions', 'total']\n",
    "\n",
    "for element in Include_api:\n",
    "    for index, row in dim_metr.iterrows():\n",
    "        if element in row['api_field_name'] or 'Metric' in row['report_type_title']:\n",
    "            row['field_type'] = \"Metric\"\n",
    "for element in Suffixes:\n",
    "    for index, row in dim_metr.iterrows():\n",
    "        if row['api_field_name'].endswith(element): \n",
    "            row['field_type'] = \"Metric\"\n",
    "for element in Exclude_api:\n",
    "    for index, row in dim_metr.iterrows():\n",
    "        if element in row['api_field_name'] or \"Dimensions\" in row['report_type_title']:\n",
    "            row['field_type'] = \"Dimension\"\n",
    "\n",
    "print(dim_metr)"
   ]
  },
  {
   "cell_type": "code",
   "execution_count": 50,
   "metadata": {},
   "outputs": [
    {
     "data": {
      "text/plain": [
       "Dimension    0.719676\n",
       "Metric       0.280324\n",
       "Name: field_type, dtype: float64"
      ]
     },
     "execution_count": 50,
     "metadata": {},
     "output_type": "execute_result"
    }
   ],
   "source": [
    "dim_metr['field_type'].value_counts(normalize=True)"
   ]
  },
  {
   "cell_type": "code",
   "execution_count": null,
   "metadata": {},
   "outputs": [],
   "source": []
  }
 ],
 "metadata": {
  "kernelspec": {
   "display_name": "Python 3 (ipykernel)",
   "language": "python",
   "name": "python3"
  },
  "language_info": {
   "codemirror_mode": {
    "name": "ipython",
    "version": 3
   },
   "file_extension": ".py",
   "mimetype": "text/x-python",
   "name": "python",
   "nbconvert_exporter": "python",
   "pygments_lexer": "ipython3",
   "version": "3.9.7"
  }
 },
 "nbformat": 4,
 "nbformat_minor": 2
}
